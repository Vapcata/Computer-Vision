{
 "cells": [
  {
   "attachments": {},
   "cell_type": "markdown",
   "id": "fd4e07a2",
   "metadata": {},
   "source": [
    "# Welcome to the first practical course\n",
    "\n",
    "In the follwing we will check the installation of some python libraries"
   ]
  },
  {
   "cell_type": "code",
   "execution_count": 2,
   "id": "f69d1961",
   "metadata": {},
   "outputs": [],
   "source": [
    "import numpy # Scientific computing\n",
    "import cv2 # Image processing \n",
    "import sklearn # Machine Learning\n",
    "import scipy # Scientific stuff\n",
    "import torch # Deep Learning\n",
    "import torchvision # Deep Learning and computer vision\n",
    "import matplotlib # Plotting stuff"
   ]
  },
  {
   "attachments": {},
   "cell_type": "markdown",
   "id": "20013e20",
   "metadata": {},
   "source": [
    "If a module is missing, try to install it. This works via the shell using pip/pip3/conda. It might be useful to create a virtual environment for the practical course and especially for the later project. This is a small Python environment where you can install packages. This works very easy with conda or virtualenv (virtualenv: python3 -m venv /path/to/new/virtual/environment). More information here: https://docs.python.org/3/library/venv.html"
   ]
  },
  {
   "attachments": {},
   "cell_type": "markdown",
   "id": "54191040",
   "metadata": {},
   "source": [
    "# Check for hardware acceleration"
   ]
  },
  {
   "cell_type": "code",
   "execution_count": 3,
   "id": "32cbc878",
   "metadata": {},
   "outputs": [
    {
     "name": "stdout",
     "output_type": "stream",
     "text": [
      "Hardware acceleration is not available\n"
     ]
    }
   ],
   "source": [
    "print(f'Hardware acceleration is {\"available\" if torch.cuda.is_available() else \"not available\"}')"
   ]
  },
  {
   "cell_type": "code",
   "execution_count": 2,
   "id": "5fba5276-998e-46c5-b255-bdd1a0854055",
   "metadata": {},
   "outputs": [],
   "source": [
    "import pandas"
   ]
  },
  {
   "cell_type": "code",
   "execution_count": 3,
   "id": "f3ee5231-f609-4ba5-b9d3-a79bf825f8af",
   "metadata": {},
   "outputs": [
    {
     "data": {
      "text/html": [
       "<div>\n",
       "<style scoped>\n",
       "    .dataframe tbody tr th:only-of-type {\n",
       "        vertical-align: middle;\n",
       "    }\n",
       "\n",
       "    .dataframe tbody tr th {\n",
       "        vertical-align: top;\n",
       "    }\n",
       "\n",
       "    .dataframe thead th {\n",
       "        text-align: right;\n",
       "    }\n",
       "</style>\n",
       "<table border=\"1\" class=\"dataframe\">\n",
       "  <thead>\n",
       "    <tr style=\"text-align: right;\">\n",
       "      <th></th>\n",
       "      <th>filename</th>\n",
       "      <th>max_x</th>\n",
       "      <th>max_y</th>\n",
       "      <th>min_x</th>\n",
       "      <th>min_y</th>\n",
       "      <th>label</th>\n",
       "    </tr>\n",
       "  </thead>\n",
       "  <tbody>\n",
       "    <tr>\n",
       "      <th>0</th>\n",
       "      <td>AgNOR_0495.tiff</td>\n",
       "      <td>26</td>\n",
       "      <td>41</td>\n",
       "      <td>4</td>\n",
       "      <td>15</td>\n",
       "      <td>1</td>\n",
       "    </tr>\n",
       "    <tr>\n",
       "      <th>1</th>\n",
       "      <td>AgNOR_0495.tiff</td>\n",
       "      <td>71</td>\n",
       "      <td>23</td>\n",
       "      <td>42</td>\n",
       "      <td>0</td>\n",
       "      <td>2</td>\n",
       "    </tr>\n",
       "    <tr>\n",
       "      <th>2</th>\n",
       "      <td>AgNOR_0495.tiff</td>\n",
       "      <td>133</td>\n",
       "      <td>61</td>\n",
       "      <td>104</td>\n",
       "      <td>37</td>\n",
       "      <td>1</td>\n",
       "    </tr>\n",
       "    <tr>\n",
       "      <th>3</th>\n",
       "      <td>AgNOR_0495.tiff</td>\n",
       "      <td>143</td>\n",
       "      <td>117</td>\n",
       "      <td>121</td>\n",
       "      <td>88</td>\n",
       "      <td>2</td>\n",
       "    </tr>\n",
       "    <tr>\n",
       "      <th>4</th>\n",
       "      <td>AgNOR_0495.tiff</td>\n",
       "      <td>224</td>\n",
       "      <td>37</td>\n",
       "      <td>199</td>\n",
       "      <td>12</td>\n",
       "      <td>1</td>\n",
       "    </tr>\n",
       "    <tr>\n",
       "      <th>...</th>\n",
       "      <td>...</td>\n",
       "      <td>...</td>\n",
       "      <td>...</td>\n",
       "      <td>...</td>\n",
       "      <td>...</td>\n",
       "      <td>...</td>\n",
       "    </tr>\n",
       "    <tr>\n",
       "      <th>19859</th>\n",
       "      <td>AgNOR_0677.tiff</td>\n",
       "      <td>362</td>\n",
       "      <td>994</td>\n",
       "      <td>335</td>\n",
       "      <td>969</td>\n",
       "      <td>2</td>\n",
       "    </tr>\n",
       "    <tr>\n",
       "      <th>19860</th>\n",
       "      <td>AgNOR_0677.tiff</td>\n",
       "      <td>1273</td>\n",
       "      <td>923</td>\n",
       "      <td>1250</td>\n",
       "      <td>899</td>\n",
       "      <td>0</td>\n",
       "    </tr>\n",
       "    <tr>\n",
       "      <th>19861</th>\n",
       "      <td>AgNOR_0677.tiff</td>\n",
       "      <td>787</td>\n",
       "      <td>1121</td>\n",
       "      <td>758</td>\n",
       "      <td>1093</td>\n",
       "      <td>0</td>\n",
       "    </tr>\n",
       "    <tr>\n",
       "      <th>19862</th>\n",
       "      <td>AgNOR_0677.tiff</td>\n",
       "      <td>780</td>\n",
       "      <td>1159</td>\n",
       "      <td>759</td>\n",
       "      <td>1138</td>\n",
       "      <td>0</td>\n",
       "    </tr>\n",
       "    <tr>\n",
       "      <th>19863</th>\n",
       "      <td>AgNOR_0677.tiff</td>\n",
       "      <td>585</td>\n",
       "      <td>1087</td>\n",
       "      <td>560</td>\n",
       "      <td>1061</td>\n",
       "      <td>0</td>\n",
       "    </tr>\n",
       "  </tbody>\n",
       "</table>\n",
       "<p>19734 rows × 6 columns</p>\n",
       "</div>"
      ],
      "text/plain": [
       "              filename  max_x  max_y  min_x  min_y  label\n",
       "0      AgNOR_0495.tiff     26     41      4     15      1\n",
       "1      AgNOR_0495.tiff     71     23     42      0      2\n",
       "2      AgNOR_0495.tiff    133     61    104     37      1\n",
       "3      AgNOR_0495.tiff    143    117    121     88      2\n",
       "4      AgNOR_0495.tiff    224     37    199     12      1\n",
       "...                ...    ...    ...    ...    ...    ...\n",
       "19859  AgNOR_0677.tiff    362    994    335    969      2\n",
       "19860  AgNOR_0677.tiff   1273    923   1250    899      0\n",
       "19861  AgNOR_0677.tiff    787   1121    758   1093      0\n",
       "19862  AgNOR_0677.tiff    780   1159    759   1138      0\n",
       "19863  AgNOR_0677.tiff    585   1087    560   1061      0\n",
       "\n",
       "[19734 rows x 6 columns]"
      ]
     },
     "execution_count": 3,
     "metadata": {},
     "output_type": "execute_result"
    }
   ],
   "source": [
    "data = pandas.read_pickle(\"annotation_frame.p\")\n",
    "data"
   ]
  },
  {
   "cell_type": "code",
   "execution_count": 5,
   "id": "34b16d68-3d20-40d8-97b5-31c5bb3bc968",
   "metadata": {},
   "outputs": [
    {
     "name": "stdout",
     "output_type": "stream",
     "text": [
      "1: 8152\n",
      "0: 4461\n",
      "2: 4003\n",
      "3: 1628\n",
      "4: 734\n",
      "5: 356\n",
      "6: 193\n",
      "7: 78\n",
      "8: 47\n",
      "9: 28\n",
      "11: 28\n",
      "10: 26\n"
     ]
    },
    {
     "data": {
      "text/plain": [
       "array(['AgNOR_0495.tiff', 'AgNOR_2906.tiff', 'AgNOR_9845.tiff',\n",
       "       'AgNOR_2876.tiff', 'AgNOR_8581.tiff', 'AgNOR_0519.tiff',\n",
       "       'AgNOR_0620.tiff', 'AgNOR_0672.tiff', 'AgNOR_2735.tiff',\n",
       "       'AgNOR_8583.tiff', 'AgNOR_0531.tiff', 'AgNOR_2751.tiff',\n",
       "       'AgNOR_2862.tiff', 'AgNOR_2999.tiff', 'AgNOR_0561.tiff',\n",
       "       'AgNOR_2864.tiff', 'AgNOR_2783.tiff', 'AgNOR_2685.tiff',\n",
       "       'AgNOR_2865.tiff', 'AgNOR_8654.tiff', 'AgNOR_2916.tiff',\n",
       "       'AgNOR_2921.tiff', 'AgNOR_0674.tiff', 'AgNOR_2852.tiff',\n",
       "       'AgNOR_0677.tiff'], dtype=object)"
      ]
     },
     "execution_count": 5,
     "metadata": {},
     "output_type": "execute_result"
    }
   ],
   "source": [
    "unique_values = data['label'].value_counts()\n",
    "for value, count in unique_values.items():\n",
    "    print(f\"{value}: {count}\")\n",
    "    \n",
    "pandas.unique(data['filename'])\n",
    "# pandas.unique_values(data['label'])"
   ]
  },
  {
   "cell_type": "code",
   "execution_count": null,
   "id": "db80da61-7825-4d18-81ad-3d8ae0cdd64e",
   "metadata": {},
   "outputs": [],
   "source": []
  },
  {
   "cell_type": "code",
   "execution_count": null,
   "id": "97d149a5-f8b3-4263-9335-c560560daf47",
   "metadata": {},
   "outputs": [],
   "source": []
  }
 ],
 "metadata": {
  "kernelspec": {
   "display_name": "Python 3 (ipykernel)",
   "language": "python",
   "name": "python3"
  },
  "language_info": {
   "codemirror_mode": {
    "name": "ipython",
    "version": 3
   },
   "file_extension": ".py",
   "mimetype": "text/x-python",
   "name": "python",
   "nbconvert_exporter": "python",
   "pygments_lexer": "ipython3",
   "version": "3.9.19"
  }
 },
 "nbformat": 4,
 "nbformat_minor": 5
}
